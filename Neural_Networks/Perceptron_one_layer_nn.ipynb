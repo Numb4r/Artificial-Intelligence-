{
  "cells": [
    {
      "cell_type": "markdown",
      "metadata": {
        "id": "cJ7qkK1UV9JX"
      },
      "source": [
        "# Estudo de caso e implementação de um RNA de camada simples para solução de problemas OR e XOR\n",
        " \n",
        "## Yuri Dimitre Dias de Faria\n",
        " \n",
        "\n"
      ]
    },
    {
      "cell_type": "markdown",
      "metadata": {
        "id": "y7cYLyA6WLyz"
      },
      "source": [
        "Neste trabalho, iremos implementar uma Rede Neural Artificial de uma camada apenas para o problema OR e XNOR"
      ]
    },
    {
      "cell_type": "markdown",
      "metadata": {
        "id": "Sadmj4f8Rz4X"
      },
      "source": [
        "![image.png](data:image/png;base64,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)"
      ]
    },
    {
      "cell_type": "markdown",
      "metadata": {
        "id": "XEqOEk9wSA58"
      },
      "source": [
        "# Bibliotecas"
      ]
    },
    {
      "cell_type": "code",
      "execution_count": 49,
      "metadata": {
        "id": "GS324HVESAfB"
      },
      "outputs": [],
      "source": [
        "import numpy as np\n",
        "import matplotlib as plt\n",
        "import random"
      ]
    },
    {
      "cell_type": "markdown",
      "metadata": {
        "id": "BSdoZfLCSDU2"
      },
      "source": [
        "# Definição da rede neural\n",
        "Utilizaremos a função \"step\" para ativação dos neurônios. A função step e denotada por:\n",
        " \n",
        "\\begin{equation}\n",
        "f(x)=\n",
        "    \\begin{cases}\n",
        "    1, x>=0 \\\\\n",
        "    0 , x < 0\n",
        "    \\end{cases}\n",
        "\\end{equation}\n",
        " \n",
        "Usaremos o erro e a quantidade de épocas máximas para determinar a parada da minha RNA, tal que se o erro for menor que minha tolerância ou se minhas épocas chegaram na quantidade máxima o sistema irá parar.\n",
        " "
      ]
    },
    {
      "cell_type": "code",
      "execution_count": 50,
      "metadata": {
        "id": "Ec9eZSNCCDBY"
      },
      "outputs": [],
      "source": [
        "class RNA:\n",
        "  def __init__(self,entry,expected,learn_rate,tol=0.000001,max_epochs = 5):\n",
        "    self.entry = entry\n",
        "    self.weight =[random.random() for i in range(len(entry[0]))] \n",
        "    self.expected = expected\n",
        "    self.bias = -0.5\n",
        "    self.learn_rate = learn_rate\n",
        "    assert(learn_rate < 1)\n",
        "    self.tol = tol\n",
        "    self.max_epochs = max_epochs\n",
        "  def step(self,x):\n",
        "    return 1.0 if x >= 0 else 0.0\n",
        "  def calc(self,w,e,b):\n",
        "    c = np.dot(w,e)+b\n",
        "    return self.step(c)\n",
        "  def run(self):\n",
        "    erroepoca = 1+self.tol\n",
        "    epoch = 0\n",
        "    while(erroepoca > self.tol and epoch < self.max_epochs):\n",
        "      print(\"Epoch:\",epoch,\"Weight: [%3.4f, %3.4f] \" %(self.weight[0],self.weight[1]))\n",
        "      out = []\n",
        "      erroatual=0\n",
        "      for i in range(len(self.entry)):\n",
        "        y = self.calc(self.weight,self.entry[i],self.bias)\n",
        "        out.append(y)\n",
        "        err = self.expected[i] - y\n",
        "        erroatual=erroatual+err*err\n",
        "        self.weight[0] = self.weight[0]+self.learn_rate*err*self.entry[i][0]\n",
        "        self.weight[1] = self.weight[1]+self.learn_rate*err*self.entry[i][1]\n",
        "        print(\"%d %d %d\" %(self.entry[i][0], self.entry[i][1], y))\n",
        "      print(\"---------------------------------------------------------------\")\n",
        "      epoch+=1\n",
        "      erroepoca = erroatual/4"
      ]
    },
    {
      "cell_type": "markdown",
      "metadata": {
        "id": "Q-ew0CBMs-c5"
      },
      "source": [
        "# Definição da entrada"
      ]
    },
    {
      "cell_type": "code",
      "execution_count": 51,
      "metadata": {
        "id": "TxmwV5HMtBHG"
      },
      "outputs": [],
      "source": [
        "x = [[0,0],[0,1],[1,0],[1,1]]"
      ]
    },
    {
      "cell_type": "markdown",
      "metadata": {
        "id": "K04nzzwjtDNM"
      },
      "source": [
        "# Definição  do resultado esperado (OR)"
      ]
    },
    {
      "cell_type": "code",
      "execution_count": 52,
      "metadata": {
        "id": "uRhyLVuotHAs"
      },
      "outputs": [],
      "source": [
        "y = [0,1,1,1]"
      ]
    },
    {
      "cell_type": "markdown",
      "metadata": {
        "id": "cyJdn-I7tIoX"
      },
      "source": [
        "# Definição dos parametros do meu sistema (OR)\n",
        "- learn rate\n",
        "- tolerate error\n",
        "- max epochs"
      ]
    },
    {
      "cell_type": "code",
      "execution_count": 53,
      "metadata": {
        "id": "BzINhUtRtKCw"
      },
      "outputs": [],
      "source": [
        "l_rate = 0.1\n",
        "tol = 0.000001\n",
        "max_epochs = 10"
      ]
    },
    {
      "cell_type": "markdown",
      "metadata": {
        "id": "S8_OjMpauv3G"
      },
      "source": [
        "# Instanciação e execução do sistema (OR)"
      ]
    },
    {
      "cell_type": "code",
      "execution_count": 54,
      "metadata": {
        "colab": {
          "base_uri": "https://localhost:8080/"
        },
        "id": "exfVMMD2u8HA",
        "outputId": "d2556688-e7b1-4c62-dc6c-2b0c5ceda6e2"
      },
      "outputs": [
        {
          "name": "stdout",
          "output_type": "stream",
          "text": [
            "Epoch: 0 Weight: [0.5491, 0.2546] \n",
            "0 0 0\n",
            "0 1 0\n",
            "1 0 1\n",
            "1 1 1\n",
            "---------------------------------------------------------------\n",
            "Epoch: 1 Weight: [0.5491, 0.3546] \n",
            "0 0 0\n",
            "0 1 0\n",
            "1 0 1\n",
            "1 1 1\n",
            "---------------------------------------------------------------\n",
            "Epoch: 2 Weight: [0.5491, 0.4546] \n",
            "0 0 0\n",
            "0 1 0\n",
            "1 0 1\n",
            "1 1 1\n",
            "---------------------------------------------------------------\n",
            "Epoch: 3 Weight: [0.5491, 0.5546] \n",
            "0 0 0\n",
            "0 1 1\n",
            "1 0 1\n",
            "1 1 1\n",
            "---------------------------------------------------------------\n"
          ]
        }
      ],
      "source": [
        "p = RNA(x,y,l_rate,tol,max_epochs)\n",
        "p.run()"
      ]
    },
    {
      "cell_type": "markdown",
      "metadata": {
        "id": "a8QxXxq1vEvg"
      },
      "source": [
        "# Definição do resultado esperado (XOR)"
      ]
    },
    {
      "cell_type": "code",
      "execution_count": 55,
      "metadata": {
        "id": "u2jCiympvLtq"
      },
      "outputs": [],
      "source": [
        "y = [0,1,1,0]"
      ]
    },
    {
      "cell_type": "markdown",
      "metadata": {
        "id": "c59BlauRvKzP"
      },
      "source": [
        "# Definição dos parametros do meu sistema (XOR)\n",
        "- max epochs"
      ]
    },
    {
      "cell_type": "code",
      "execution_count": 56,
      "metadata": {
        "id": "WZJKB2KCvPQz"
      },
      "outputs": [],
      "source": [
        "max_epochs = 20"
      ]
    },
    {
      "cell_type": "markdown",
      "metadata": {
        "id": "D4NJCZgWvO3b"
      },
      "source": [
        "# Instanciação e execução do sistema (XOR)"
      ]
    },
    {
      "cell_type": "code",
      "execution_count": 57,
      "metadata": {
        "colab": {
          "base_uri": "https://localhost:8080/"
        },
        "id": "21-S1FrKvldZ",
        "outputId": "bf1433f0-4ba7-4a1e-872f-cd913b4f8ddf"
      },
      "outputs": [
        {
          "name": "stdout",
          "output_type": "stream",
          "text": [
            "Epoch: 0 Weight: [0.0086, 0.7867] \n",
            "0 0 0\n",
            "0 1 1\n",
            "1 0 0\n",
            "1 1 1\n",
            "---------------------------------------------------------------\n",
            "Epoch: 1 Weight: [0.0086, 0.6867] \n",
            "0 0 0\n",
            "0 1 1\n",
            "1 0 0\n",
            "1 1 1\n",
            "---------------------------------------------------------------\n",
            "Epoch: 2 Weight: [0.0086, 0.5867] \n",
            "0 0 0\n",
            "0 1 1\n",
            "1 0 0\n",
            "1 1 1\n",
            "---------------------------------------------------------------\n",
            "Epoch: 3 Weight: [0.0086, 0.4867] \n",
            "0 0 0\n",
            "0 1 0\n",
            "1 0 0\n",
            "1 1 1\n",
            "---------------------------------------------------------------\n",
            "Epoch: 4 Weight: [0.0086, 0.4867] \n",
            "0 0 0\n",
            "0 1 0\n",
            "1 0 0\n",
            "1 1 1\n",
            "---------------------------------------------------------------\n",
            "Epoch: 5 Weight: [0.0086, 0.4867] \n",
            "0 0 0\n",
            "0 1 0\n",
            "1 0 0\n",
            "1 1 1\n",
            "---------------------------------------------------------------\n",
            "Epoch: 6 Weight: [0.0086, 0.4867] \n",
            "0 0 0\n",
            "0 1 0\n",
            "1 0 0\n",
            "1 1 1\n",
            "---------------------------------------------------------------\n",
            "Epoch: 7 Weight: [0.0086, 0.4867] \n",
            "0 0 0\n",
            "0 1 0\n",
            "1 0 0\n",
            "1 1 1\n",
            "---------------------------------------------------------------\n",
            "Epoch: 8 Weight: [0.0086, 0.4867] \n",
            "0 0 0\n",
            "0 1 0\n",
            "1 0 0\n",
            "1 1 1\n",
            "---------------------------------------------------------------\n",
            "Epoch: 9 Weight: [0.0086, 0.4867] \n",
            "0 0 0\n",
            "0 1 0\n",
            "1 0 0\n",
            "1 1 1\n",
            "---------------------------------------------------------------\n",
            "Epoch: 10 Weight: [0.0086, 0.4867] \n",
            "0 0 0\n",
            "0 1 0\n",
            "1 0 0\n",
            "1 1 1\n",
            "---------------------------------------------------------------\n",
            "Epoch: 11 Weight: [0.0086, 0.4867] \n",
            "0 0 0\n",
            "0 1 0\n",
            "1 0 0\n",
            "1 1 1\n",
            "---------------------------------------------------------------\n",
            "Epoch: 12 Weight: [0.0086, 0.4867] \n",
            "0 0 0\n",
            "0 1 0\n",
            "1 0 0\n",
            "1 1 1\n",
            "---------------------------------------------------------------\n",
            "Epoch: 13 Weight: [0.0086, 0.4867] \n",
            "0 0 0\n",
            "0 1 0\n",
            "1 0 0\n",
            "1 1 1\n",
            "---------------------------------------------------------------\n",
            "Epoch: 14 Weight: [0.0086, 0.4867] \n",
            "0 0 0\n",
            "0 1 0\n",
            "1 0 0\n",
            "1 1 1\n",
            "---------------------------------------------------------------\n",
            "Epoch: 15 Weight: [0.0086, 0.4867] \n",
            "0 0 0\n",
            "0 1 0\n",
            "1 0 0\n",
            "1 1 1\n",
            "---------------------------------------------------------------\n",
            "Epoch: 16 Weight: [0.0086, 0.4867] \n",
            "0 0 0\n",
            "0 1 0\n",
            "1 0 0\n",
            "1 1 1\n",
            "---------------------------------------------------------------\n",
            "Epoch: 17 Weight: [0.0086, 0.4867] \n",
            "0 0 0\n",
            "0 1 0\n",
            "1 0 0\n",
            "1 1 1\n",
            "---------------------------------------------------------------\n",
            "Epoch: 18 Weight: [0.0086, 0.4867] \n",
            "0 0 0\n",
            "0 1 0\n",
            "1 0 0\n",
            "1 1 1\n",
            "---------------------------------------------------------------\n",
            "Epoch: 19 Weight: [0.0086, 0.4867] \n",
            "0 0 0\n",
            "0 1 0\n",
            "1 0 0\n",
            "1 1 1\n",
            "---------------------------------------------------------------\n"
          ]
        }
      ],
      "source": [
        "p = RNA(x,y,l_rate,tol,max_epochs)\n",
        "p.run()"
      ]
    },
    {
      "cell_type": "markdown",
      "metadata": {
        "id": "keThlPGuvMYM"
      },
      "source": [
        "Como podemos notar, foi possível a aproximação da função OR mas não dá XOR. Isso se deve graças a função XOR não ser linearmente separável, o que torna impossível a aproximação em uma RNA de camada simples.\n",
        "\n"
      ]
    }
  ],
  "metadata": {
    "colab": {
      "collapsed_sections": [],
      "provenance": []
    },
    "kernelspec": {
      "display_name": "Python 3.9.13 64-bit (microsoft store)",
      "language": "python",
      "name": "python3"
    },
    "language_info": {
      "name": "python",
      "version": "3.9.13"
    },
    "orig_nbformat": 4,
    "vscode": {
      "interpreter": {
        "hash": "d3fe33750cb47c645282a667b8c7ac8ae52e280935d97a5123cc784e0bf9c634"
      }
    }
  },
  "nbformat": 4,
  "nbformat_minor": 0
}
