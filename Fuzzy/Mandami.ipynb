{
  "nbformat": 4,
  "nbformat_minor": 0,
  "metadata": {
    "colab": {
      "provenance": [],
      "collapsed_sections": []
    },
    "kernelspec": {
      "name": "python3",
      "display_name": "Python 3"
    },
    "language_info": {
      "name": "python"
    }
  },
  "cells": [
    {
      "cell_type": "markdown",
      "source": [
        "# Roteiro\n",
        "1. Definir o conjunto de dados\n",
        "2. Definir as funções de pertinência\n",
        "3. Calcular o grau de ativação dos antecedentes (W) (Grau de ativação das funções de pertinência)\n",
        "4. Calcular a saída de cada regra (mínimo) (antecedente -> consequente)\n",
        "5. Agregar as saídas das regras (maximo)\n",
        "6. Defuzzificação - saída com valor numérico \n",
        " \n",
        "Fazer as etapas 3 a 6 para cada um dos pontos\n",
        "\n",
        "\n"
      ],
      "metadata": {
        "id": "1Yr-mmzt11Dx"
      }
    },
    {
      "cell_type": "code",
      "source": [
        "! pip install scikit-fuzzy >> /dev/null"
      ],
      "metadata": {
        "id": "Bsr-2eofeM1a",
        "colab": {
          "base_uri": "https://localhost:8080/"
        },
        "outputId": "6a5f78b0-4437-46cf-9289-3cb7ccba900d"
      },
      "execution_count": null,
      "outputs": [
        {
          "output_type": "stream",
          "name": "stdout",
          "text": [
            "/content/drive/MyDrive/Colab Notebooks\n",
            "[NbConvertApp] Converting notebook Mandami.ipynb to latex\n",
            "[NbConvertApp] Support files will be in Mandami_files/\n",
            "[NbConvertApp] Making directory Mandami_files\n",
            "[NbConvertApp] Making directory Mandami_files\n",
            "[NbConvertApp] Making directory Mandami_files\n",
            "[NbConvertApp] Writing 32888 bytes to Mandami.tex\n"
          ]
        }
      ]
    },
    {
      "cell_type": "markdown",
      "source": [
        "## Bibliotecas"
      ],
      "metadata": {
        "id": "YCCl6Af6uxKj"
      }
    },
    {
      "cell_type": "code",
      "execution_count": null,
      "metadata": {
        "id": "toMeZO62upRW"
      },
      "outputs": [],
      "source": [
        "import numpy as np\n",
        "import matplotlib.pyplot as plt\n",
        "import skfuzzy as fuzz"
      ]
    },
    {
      "cell_type": "markdown",
      "source": [
        "## Definindo dados de entrada"
      ],
      "metadata": {
        "id": "APaeUd_wu1Ri"
      }
    },
    {
      "cell_type": "code",
      "source": [
        "# np.linspace(a,b,point_n) define point_n points in range of a b\n",
        "point_n = 100\n",
        "x = np.linspace(-10,10,point_n)\n",
        "y = np.linspace(0,10,point_n)"
      ],
      "metadata": {
        "id": "rQ7acehou4S3"
      },
      "execution_count": null,
      "outputs": []
    },
    {
      "cell_type": "markdown",
      "source": [
        "## Definindo função de pertinencia"
      ],
      "metadata": {
        "id": "Qti3F1xvqkvv"
      }
    },
    {
      "cell_type": "code",
      "source": [
        "# Funcao de ativacao\n",
        "def trapezoidal(x:float,a:float,m:float,n:float,b:float):\n",
        "  return max(min((x - a) / (m - a) , 1 , (b - x) / (b - n)) , 0)\n",
        "def trapezoidal(x, vet):\n",
        "    return max(min((x-vet[0])/(vet[1]-vet[0]),1,(vet[3]-x)/(vet[3]-vet[2])),0)\n"
      ],
      "metadata": {
        "id": "vglOyHl--LbM"
      },
      "execution_count": null,
      "outputs": []
    },
    {
      "cell_type": "markdown",
      "source": [
        "## Definindo função antecedente"
      ],
      "metadata": {
        "id": "OCFGgE86zpvk"
      }
    },
    {
      "cell_type": "code",
      "source": [
        "ante_param = np.array([[-20,-15,-6,-3],[-6,-3,3,6],[ 3 ,6 ,15 ,20]])\n",
        "W=[]\n",
        "for i in ante_param:\n",
        "  row = []\n",
        "  for j in x:\n",
        "    row.append(trapezoidal(j,i))\n",
        "  W.append(row)\n",
        "plt.plot(x, W[0], label=\"W1\")\n",
        "plt.plot(x, W[1], label=\"W2\")\n",
        "plt.plot(x, W[2], label=\"W3\")\n",
        "plt.plot()\n",
        "\n",
        "plt.xlabel(\"Entrada\")\n",
        "plt.ylabel(\"Grau de ativação \")\n",
        "plt.legend()\n",
        "plt.show()"
      ],
      "metadata": {
        "id": "zX9OFcQkzVNO",
        "colab": {
          "base_uri": "https://localhost:8080/",
          "height": 279
        },
        "outputId": "03c463f1-c4d6-4491-e215-cddd968a0c5a"
      },
      "execution_count": null,
      "outputs": [
        {
          "output_type": "display_data",
          "data": {
            "text/plain": [
              "<Figure size 432x288 with 1 Axes>"
            ],
            "image/png": "[encoded data removed]"
          },
          "metadata": {
            "needs_background": "light"
          }
        }
      ]
    },
    {
      "cell_type": "markdown",
      "source": [
        "## Definindo função consequente"
      ],
      "metadata": {
        "id": "z3SzkejK1iO5"
      }
    },
    {
      "cell_type": "code",
      "source": [
        "cons_param = [[-2.46 ,-1.46 ,1.46 ,2.46],[1.46, 2.46, 5 ,7],[5, 7, 13, 15]]\n",
        "yW=[]\n",
        "for i in cons_param:\n",
        "  row = []\n",
        "  for j in y:\n",
        "    row.append(trapezoidal(j,i))\n",
        "  yW.append(row)\n",
        "\n",
        "\n",
        "plt.plot(y, yW[0], label=\"Y1\")\n",
        "plt.plot(y, yW[1], label=\"Y2\")\n",
        "plt.plot(y, yW[2], label=\"Y3\")\n",
        "\n",
        "\n",
        "plt.xlabel(\"Saida\")\n",
        "plt.ylabel(\"Grau de ativação \")\n",
        "plt.legend()\n",
        "plt.show()\n"
      ],
      "metadata": {
        "id": "f1EQeqae1h54",
        "colab": {
          "base_uri": "https://localhost:8080/",
          "height": 279
        },
        "outputId": "bd4e6043-cfe1-4137-f34a-3775d881f089"
      },
      "execution_count": null,
      "outputs": [
        {
          "output_type": "display_data",
          "data": {
            "text/plain": [
              "<Figure size 432x288 with 1 Axes>"
            ],
            "image/png": "[encoded data removed]"
          },
          "metadata": {
            "needs_background": "light"
          }
        }
      ]
    },
    {
      "cell_type": "markdown",
      "source": [
        "## Aplicando regras e agregar as saídas\n",
        "As funções de ativação são definidas como:\n",
        " \n",
        "Quando x $\\in$ A1 $→$ y $\\in$ C3 \\\\\n",
        "Quando x $\\in$ A2 $→$ y $\\in$ C2 \\\\\n",
        "Quando x $\\in$ A3 $→$ y $\\in$ C1\n",
        "\n",
        "\n"
      ],
      "metadata": {
        "id": "yGXtEbmdqL1J"
      }
    },
    {
      "cell_type": "code",
      "source": [
        "defuzz_points =[]\n",
        "for i in range(point_n):\n",
        "  C=[[],[],[]]\n",
        "  agreg_out = []\n",
        "  for j in range(point_n):\n",
        "    aux1 = min(W[0][i],yW[2][j])\n",
        "    aux2 = min(W[1][i],yW[1][j])\n",
        "    aux3 = min(W[2][i],yW[0][j])\n",
        "    C[0].append(aux1)\n",
        "    C[1].append(aux2)\n",
        "    C[2].append(aux3)\n",
        "    agreg_out.append(max(C[0][j],C[1][j],C[2][j]))\n",
        "  defuzz_points.append(fuzz.defuzz(x, np.array(agreg_out), 'lom'))\n",
        "\n"
      ],
      "metadata": {
        "id": "HlHobZe3qLWn"
      },
      "execution_count": null,
      "outputs": []
    },
    {
      "cell_type": "markdown",
      "source": [
        "# Defuzzificação - Gráfico\n",
        " \n",
        "A defuzzificação foi feita utilizando o método \"lom\" da biblioteca scikit, que utiliza o máximo dos mínimos."
      ],
      "metadata": {
        "id": "nk-mfYdPRMQK"
      }
    },
    {
      "cell_type": "code",
      "source": [
        "plt.plot(x,defuzz_points)\n",
        "plt.show()"
      ],
      "metadata": {
        "id": "nfsu6E7iT376",
        "colab": {
          "base_uri": "https://localhost:8080/",
          "height": 265
        },
        "outputId": "3d454aa8-4c62-4c44-9cce-4a3dbd5105dd"
      },
      "execution_count": null,
      "outputs": [
        {
          "output_type": "display_data",
          "data": {
            "text/plain": [
              "<Figure size 432x288 with 1 Axes>"
            ],
            "image/png": "[encoded data removed]"
          },
          "metadata": {
            "needs_background": "light"
          }
        }
      ]
    }
  ]
}